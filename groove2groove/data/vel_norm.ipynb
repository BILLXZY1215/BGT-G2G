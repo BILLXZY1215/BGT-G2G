{
 "cells": [
  {
   "cell_type": "markdown",
   "metadata": {},
   "source": [
    "# Velocity normalization\n",
    "\n",
    "We normalize velocities in the Bodhidharma dataset to get rid of a mismatch with respect to the training distribution.\n",
    "\n",
    "The histogram plotting takes a bit long and may be skipped."
   ]
  },
  {
   "cell_type": "code",
   "execution_count": 1,
   "metadata": {},
   "outputs": [],
   "source": [
    "import itertools\n",
    "import os\n",
    "\n",
    "import matplotlib.pyplot as plt\n",
    "from museflow.io.note_sequence_io import NoteSequenceDB\n",
    "from museflow.note_sequence_utils import filter_sequence\n",
    "import numpy as np\n",
    "import scipy"
   ]
  },
  {
   "cell_type": "code",
   "execution_count": 2,
   "metadata": {},
   "outputs": [],
   "source": [
    "DATASET_DIR = 'bodhidharma/final'\n",
    "TRAIN_DB = 'synth/train/final/all.db'"
   ]
  },
  {
   "cell_type": "markdown",
   "metadata": {},
   "source": [
    "## Compute velocity statistics on training data"
   ]
  },
  {
   "cell_type": "code",
   "execution_count": 3,
   "metadata": {},
   "outputs": [],
   "source": [
    "velocities_train = []\n",
    "with NoteSequenceDB(TRAIN_DB) as db, db.begin() as txn:\n",
    "    for _, seq in txn.items():\n",
    "        velocities_train.extend(n.velocity for n in seq.notes)"
   ]
  },
  {
   "cell_type": "code",
   "execution_count": 4,
   "metadata": {},
   "outputs": [
    {
     "data": {
      "text/plain": [
       "DescribeResult(nobs=71799353, minmax=(1, 127), mean=64.25399574283072, variance=432.9165195560093, skewness=0.19585816884222212, kurtosis=-0.06955028101708605)"
      ]
     },
     "execution_count": 4,
     "metadata": {},
     "output_type": "execute_result"
    }
   ],
   "source": [
    "train_stats = scipy.stats.describe(velocities_train)\n",
    "train_stats"
   ]
  },
  {
   "cell_type": "code",
   "execution_count": 5,
   "metadata": {},
   "outputs": [
    {
     "data": {
      "image/png": "[encoded data removed]",
      "text/plain": [
       "<Figure size 432x288 with 1 Axes>"
      ]
     },
     "metadata": {
      "needs_background": "light"
     },
     "output_type": "display_data"
    }
   ],
   "source": [
    "plt.hist(velocities_train, bins=np.linspace(0, 128, 129))\n",
    "plt.show()"
   ]
  },
  {
   "cell_type": "markdown",
   "metadata": {},
   "source": [
    "## Compute the same statistics on the Bodhidharma dataset"
   ]
  },
  {
   "cell_type": "code",
   "execution_count": 6,
   "metadata": {},
   "outputs": [],
   "source": [
    "velocities_bodh = []\n",
    "with NoteSequenceDB(os.path.join(DATASET_DIR, 'all.db')) as db, db.begin() as txn:\n",
    "    for _, seq in txn.items():\n",
    "        velocities_bodh.extend(n.velocity for n in seq.notes)"
   ]
  },
  {
   "cell_type": "code",
   "execution_count": 7,
   "metadata": {},
   "outputs": [
    {
     "data": {
      "text/plain": [
       "DescribeResult(nobs=3270166, minmax=(1, 127), mean=91.25231685486303, variance=637.4622812064066, skewness=-0.4970251410175147, kurtosis=-0.23826480021904972)"
      ]
     },
     "execution_count": 7,
     "metadata": {},
     "output_type": "execute_result"
    }
   ],
   "source": [
    "bodh_stats = scipy.stats.describe(velocities_bodh)\n",
    "bodh_stats"
   ]
  },
  {
   "cell_type": "code",
   "execution_count": 8,
   "metadata": {},
   "outputs": [
    {
     "data": {
      "image/png": "[encoded data removed]",
      "text/plain": [
       "<Figure size 432x288 with 1 Axes>"
      ]
     },
     "metadata": {
      "needs_background": "light"
     },
     "output_type": "display_data"
    }
   ],
   "source": [
    "plt.hist(velocities_bodh, bins=np.linspace(0, 128, 129))\n",
    "plt.show()"
   ]
  },
  {
   "cell_type": "markdown",
   "metadata": {},
   "source": [
    "## Normalize velocities and check the new statistics"
   ]
  },
  {
   "cell_type": "code",
   "execution_count": 9,
   "metadata": {},
   "outputs": [],
   "source": [
    "os.makedirs(os.path.join(DATASET_DIR, 'vel_norm_biab'))"
   ]
  },
  {
   "cell_type": "code",
   "execution_count": 10,
   "metadata": {},
   "outputs": [],
   "source": [
    "velocities_norm = []\n",
    "with NoteSequenceDB(os.path.join(DATASET_DIR, 'all.db')) as db, db.begin() as txn, \\\n",
    "     NoteSequenceDB(os.path.join(DATASET_DIR, 'vel_norm_biab', 'all.db'), write=True,\n",
    "                    map_size=2 * db.db.info()['map_size']) as db_out, db_out.begin() as txn_out:\n",
    "    for key, seq in txn.items():\n",
    "        seq_velocities = np.array([n.velocity for n in seq.notes])\n",
    "        seq_velocities = seq_velocities - np.mean(seq_velocities)\n",
    "        if np.std(seq_velocities) > 0:\n",
    "            seq_velocities *= np.sqrt(train_stats.variance) / np.std(seq_velocities)\n",
    "        seq_velocities += train_stats.mean\n",
    "        seq_velocities = np.rint(seq_velocities).astype(np.int32)\n",
    "        np.clip(seq_velocities, 1, 127, out=seq_velocities)\n",
    "        for note, velocity in zip(seq.notes, seq_velocities):\n",
    "            note.velocity = velocity\n",
    "        txn_out.put(key, seq)\n",
    "        velocities_norm.extend(seq_velocities)"
   ]
  },
  {
   "cell_type": "code",
   "execution_count": 11,
   "metadata": {},
   "outputs": [
    {
     "data": {
      "text/plain": [
       "DescribeResult(nobs=3270166, minmax=(1, 127), mean=64.28374706360472, variance=389.6695570711818, skewness=-0.29765833233658223, kurtosis=0.3096898322707906)"
      ]
     },
     "execution_count": 11,
     "metadata": {},
     "output_type": "execute_result"
    }
   ],
   "source": [
    "scipy.stats.describe(velocities_norm)"
   ]
  },
  {
   "cell_type": "code",
   "execution_count": 12,
   "metadata": {},
   "outputs": [
    {
     "data": {
      "image/png": "[encoded data removed]",
      "text/plain": [
       "<Figure size 432x288 with 1 Axes>"
      ]
     },
     "metadata": {
      "needs_background": "light"
     },
     "output_type": "display_data"
    }
   ],
   "source": [
    "plt.hist(velocities_train, density=True, bins=np.linspace(0, 128, 129), alpha=0.7)\n",
    "plt.hist(velocities_norm, density=True, bins=np.linspace(0, 128, 129), alpha=0.7)\n",
    "plt.show()"
   ]
  },
  {
   "cell_type": "code",
   "execution_count": 13,
   "metadata": {},
   "outputs": [
    {
     "data": {
      "image/png": "[encoded data removed]",
      "text/plain": [
       "<Figure size 432x288 with 1 Axes>"
      ]
     },
     "metadata": {
      "needs_background": "light"
     },
     "output_type": "display_data"
    }
   ],
   "source": [
    "plt.hist(velocities_train, density=True, bins=np.linspace(0, 128, 9), alpha=0.7)\n",
    "plt.hist(velocities_norm, density=True, bins=np.linspace(0, 128, 9), alpha=0.7)\n",
    "plt.show()"
   ]
  },
  {
   "cell_type": "markdown",
   "metadata": {},
   "source": [
    "## Filter out drums"
   ]
  },
  {
   "cell_type": "code",
   "execution_count": 14,
   "metadata": {},
   "outputs": [],
   "source": [
    "with NoteSequenceDB(os.path.join(DATASET_DIR, 'vel_norm_biab', 'all.db')) as db, db.begin() as txn, \\\n",
    "     NoteSequenceDB(os.path.join(DATASET_DIR, 'vel_norm_biab', 'all_except_drums.db'), write=True,\n",
    "                    map_size=2 * db.db.info()['map_size']) as db_out, db_out.begin() as txn_out:\n",
    "    for key, seq in txn.items():\n",
    "        filter_sequence(seq, drums=False)\n",
    "        txn_out.put(key, seq)"
   ]
  }
 ],
 "metadata": {
  "kernelspec": {
   "display_name": "Python 3",
   "language": "python",
   "name": "python3"
  },
  "language_info": {
   "codemirror_mode": {
    "name": "ipython",
    "version": 3
   },
   "file_extension": ".py",
   "mimetype": "text/x-python",
   "name": "python",
   "nbconvert_exporter": "python",
   "pygments_lexer": "ipython3",
   "version": "3.6.8"
  }
 },
 "nbformat": 4,
 "nbformat_minor": 4
}
